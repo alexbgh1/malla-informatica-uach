{
 "cells": [
  {
   "cell_type": "code",
   "execution_count": 718,
   "metadata": {},
   "outputs": [
    {
     "name": "stdout",
     "output_type": "stream",
     "text": [
      "Ingeniería Civil Informática\n"
     ]
    }
   ],
   "source": [
    "import json\n",
    "\n",
    "with open('malla_uach.json', encoding=\"utf8\") as f:\n",
    "   data = json.load(f)\n",
    "\n",
    "print(data['carrera'])"
   ]
  },
  {
   "cell_type": "code",
   "execution_count": 719,
   "metadata": {},
   "outputs": [
    {
     "data": {
      "text/plain": [
       "{'nombre': 'Álgebra para Ingeniería',\n",
       " 'codigo': 'BAIN065',\n",
       " 'semestral': True,\n",
       " 'prerequisitos': [],\n",
       " 'desbloquea': [{'semestre': 2, 'codigo': 'BAIN073'},\n",
       "  {'semestre': 2, 'codigo': 'BAIN075'},\n",
       "  {'semestre': 3, 'codigo': 'BAIN077'}]}"
      ]
     },
     "execution_count": 719,
     "metadata": {},
     "output_type": "execute_result"
    }
   ],
   "source": [
    "data['malla'][0]['ramos'][0]"
   ]
  },
  {
   "cell_type": "code",
   "execution_count": 720,
   "metadata": {},
   "outputs": [
    {
     "name": "stdout",
     "output_type": "stream",
     "text": [
      "Semestre nº: 1/11\n",
      "Etapa actual: Bachiller en Ciencias de la Ingeniería\n",
      "\n",
      "Nombre de asignatura: Álgebra para Ingeniería\n",
      "Prerequisitos: []\n",
      "Desbloquea: [{'semestre': 2, 'codigo': 'BAIN073'}, {'semestre': 2, 'codigo': 'BAIN075'}, {'semestre': 3, 'codigo': 'BAIN077'}]\n",
      "\n",
      "Nombre de asignatura: Geometría para Ingeniería\n",
      "Prerequisitos: []\n",
      "Desbloquea: [{'semestre': 2, 'codigo': 'BAIN075'}, {'semestre': 3, 'codigo': 'BAIN077'}]\n",
      "\n",
      "Nombre de asignatura: Optativo 1\n",
      "Prerequisitos: []\n",
      "Desbloquea: []\n",
      "\n",
      "Nombre de asignatura: Introducción a la Programación\n",
      "Prerequisitos: []\n",
      "Desbloquea: [{'semestre': 2, 'codigo': 'INFO081'}, {'semestre': 2, 'codigo': 'INFO083'}, {'semestre': 5, 'codigo': 'INFO128'}]\n",
      "\n",
      "Nombre de asignatura: Taller de Ingeniería: Introducción a la profesión\n",
      "Prerequisitos: []\n",
      "Desbloquea: [{'semestre': 2, 'codigo': 'INFO083'}]\n",
      "\n"
     ]
    }
   ],
   "source": [
    "print(f\"Semestre nº: {data['malla'][0]['semestre']}/{data['semestres']}\")\n",
    "print(f\"Etapa actual: {data['malla'][0]['ciclo']}\\n\")\n",
    "\n",
    "for asignatura in data['malla'][0]['ramos']:\n",
    "    print(f\"Nombre de asignatura: {asignatura['nombre']}\")\n",
    "    print(f\"Prerequisitos: {asignatura['prerequisitos']}\\nDesbloquea: {asignatura['desbloquea']}\\n\")\n"
   ]
  },
  {
   "cell_type": "code",
   "execution_count": 721,
   "metadata": {},
   "outputs": [],
   "source": [
    "def buscar_asignatura(data,semestre:int, codigo:str):\n",
    "    \"\"\"\n",
    "    Buscar la asignatura dada, en base a data (json), semestre y código.\n",
    "    Retorna un diccionario con:\n",
    "    nombre (str),\n",
    "    codigo (str),\n",
    "    semestreal (bool),\n",
    "    prerequisitos (list dict-> semestre (int),codigo (str)),\n",
    "    desbloquea (list dict -> semestre (int),codigo (str))\n",
    "    \"\"\"\n",
    "    src = data['malla'][semestre-1]\n",
    "    index = 0\n",
    "\n",
    "    while (index<src['cantidad_ramos'] and (src['ramos'][index]['codigo'] != codigo)):\n",
    "        index +=1\n",
    "    \n",
    "    if (index == src['cantidad_ramos']):\n",
    "        return print(\"El código no fue encontrado.\")\n",
    "    return src['ramos'][index]"
   ]
  },
  {
   "cell_type": "code",
   "execution_count": 722,
   "metadata": {},
   "outputs": [],
   "source": [
    "def buscar_asignaturas_semestre(data, semestre:int):\n",
    "    return data['malla'][semestre-1]"
   ]
  },
  {
   "cell_type": "code",
   "execution_count": 723,
   "metadata": {},
   "outputs": [],
   "source": [
    "def requisitos_asignatura(data,asignatura:dict, acum):\n",
    "    \"\"\"\n",
    "    De manera recursiva busca los requisitos de cada asignatura y los añade a un acumulador\n",
    "    \"\"\"\n",
    "    for requisitos in asignatura['prerequisitos']:\n",
    "        # print(requisitos)\n",
    "        x = buscar_asignatura(data,requisitos['semestre'],requisitos['codigo'])\n",
    "        x['semestre_actual'] = requisitos['semestre']\n",
    "        acum.append(x)\n",
    "        requisitos_asignatura(data,x,acum)\n",
    "    return acum"
   ]
  },
  {
   "cell_type": "code",
   "execution_count": 724,
   "metadata": {},
   "outputs": [],
   "source": [
    "def buscar_temp(data,semestre:int,codigo:str,acum):\n",
    "    \"\"\"\n",
    "    Hace todo el proceso de buscar ramos de pre requisito, de manera no-óptima, era para testear\n",
    "    si estaba todo bien\n",
    "    \"\"\"\n",
    "    ramo = buscar_asignatura(data,semestre,codigo)\n",
    "    if (ramo == False):\n",
    "        return False\n",
    "    requisitosRepetidos = requisitos_asignatura(data,ramo,acum)\n",
    "\n",
    "    # Filtra requisitos repetidos\n",
    "    requisitosUnicos = []\n",
    "    for infoRamo in requisitosRepetidos:\n",
    "        if infoRamo not in requisitosUnicos:\n",
    "            requisitosUnicos.append(infoRamo)\n",
    "\n",
    "    # Ordena por semestre\n",
    "    requisitosUnicos = sorted(requisitosUnicos, key=lambda d: d['semestre_actual']) \n",
    "\n",
    "    # Imprime requisitos\n",
    "    for requisito in requisitosUnicos:\n",
    "        print(f\"Nombre: {requisito['nombre']:>60}\\tSemestre: {requisito['semestre_actual']} \\t Código: {requisito['codigo']}\")\n",
    "\n",
    "    return "
   ]
  },
  {
   "cell_type": "code",
   "execution_count": 725,
   "metadata": {},
   "outputs": [
    {
     "name": "stdout",
     "output_type": "stream",
     "text": [
      "Nombre:                               Introducción a la Programación\tSemestre: 1 \t Código: INFO063\n",
      "Nombre:            Taller de Ingeniería: Introducción a la profesión\tSemestre: 1 \t Código: INFO073\n",
      "Nombre:                                      Álgebra para Ingeniería\tSemestre: 1 \t Código: BAIN065\n",
      "Nombre:                                    Geometría para Ingeniería\tSemestre: 1 \t Código: BAIN067\n",
      "Nombre:                                                 Programación\tSemestre: 2 \t Código: INFO081\n",
      "Nombre:                  Taller de Ingeniería: Programación aplicada\tSemestre: 2 \t Código: INFO083\n",
      "Nombre:                               Álgebra lineal para Ingeniería\tSemestre: 2 \t Código: BAIN073\n",
      "Nombre:                                      Química para Ingeniería\tSemestre: 2 \t Código: BAIN069\n",
      "Nombre:                                      Cálculo en una variable\tSemestre: 2 \t Código: BAIN075\n",
      "Nombre:       Taller de Ingeniería: Estructura de Datos y Algoritmos\tSemestre: 3 \t Código: INFO088\n",
      "Nombre:                                  Cálculo en varias variables\tSemestre: 3 \t Código: BAIN083\n",
      "Nombre:                                             Física: Mecánica\tSemestre: 3 \t Código: BAIN077\n",
      "Nombre:                                        Estructuras Discretas\tSemestre: 4 \t Código: INFO099\n",
      "Nombre:                            Física: Ondas y electromagnetismo\tSemestre: 4 \t Código: BAIN085\n",
      "Nombre:                                          Teoría de Autómatas\tSemestre: 5 \t Código: INFO139\n",
      "Nombre:                                 Arquitectura de Computadores\tSemestre: 5 \t Código: INFO128\n",
      "Nombre:                                          Sistemas Operativos\tSemestre: 6 \t Código: INFO198\n"
     ]
    }
   ],
   "source": [
    "acum=[]\n",
    "# buscar_temp(data,5,\"INFO128\",acum)\n",
    "buscar_temp(data,7,\"INFO239\",acum)\n"
   ]
  },
  {
   "cell_type": "code",
   "execution_count": 726,
   "metadata": {},
   "outputs": [],
   "source": [
    "# Lo mismo que la función buscar_temp pero paso a paso.\n",
    "Edo = buscar_asignatura(data,3,\"BAIN081\")"
   ]
  },
  {
   "cell_type": "code",
   "execution_count": 727,
   "metadata": {},
   "outputs": [
    {
     "name": "stdout",
     "output_type": "stream",
     "text": [
      "Los requisitos de la asignatura Ecuaciones Diferenciales para Ingeniería\n"
     ]
    }
   ],
   "source": [
    "print(f\"Los requisitos de la asignatura {Edo['nombre']}\")\n",
    "acum = []\n",
    "requisitosRepetidos = requisitos_asignatura(data,Edo,acum)\n",
    "\n",
    "# Filtrando requisitos únicos, ya que la función requisitos_asignatura recolecta TODOS los requisitos, \n",
    "# es decir, si hay dos ramos que incluyen un código, los añadirá de todas formas\n",
    "requisitosUnicos = []\n",
    "\n",
    "for infoRamo in requisitosRepetidos:\n",
    "    if infoRamo not in requisitosUnicos:\n",
    "        requisitosUnicos.append(infoRamo)"
   ]
  },
  {
   "cell_type": "code",
   "execution_count": 728,
   "metadata": {},
   "outputs": [
    {
     "name": "stdout",
     "output_type": "stream",
     "text": [
      "Nombre: Álgebra lineal para Ingeniería\tSemestre: 2 \t Código: BAIN073\n",
      "Nombre:        Álgebra para Ingeniería\tSemestre: 1 \t Código: BAIN065\n",
      "Nombre:        Cálculo en una variable\tSemestre: 2 \t Código: BAIN075\n",
      "Nombre:      Geometría para Ingeniería\tSemestre: 1 \t Código: BAIN067\n"
     ]
    }
   ],
   "source": [
    "for requisito in requisitosUnicos:\n",
    "    print(f\"Nombre: {requisito['nombre']:>30}\\tSemestre: {requisito['semestre_actual']} \\t Código: {requisito['codigo']}\")"
   ]
  },
  {
   "cell_type": "code",
   "execution_count": null,
   "metadata": {},
   "outputs": [],
   "source": []
  }
 ],
 "metadata": {
  "kernelspec": {
   "display_name": "Python 3.8.10 64-bit",
   "language": "python",
   "name": "python3"
  },
  "language_info": {
   "codemirror_mode": {
    "name": "ipython",
    "version": 3
   },
   "file_extension": ".py",
   "mimetype": "text/x-python",
   "name": "python",
   "nbconvert_exporter": "python",
   "pygments_lexer": "ipython3",
   "version": "3.8.10"
  },
  "orig_nbformat": 4,
  "vscode": {
   "interpreter": {
    "hash": "0cce0f1da80592776099ef3035ffd13b19d3a2ed62a813cda649c3fb69ae6994"
   }
  }
 },
 "nbformat": 4,
 "nbformat_minor": 2
}
